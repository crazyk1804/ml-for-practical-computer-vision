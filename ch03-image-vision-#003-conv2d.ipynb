{
 "cells": [
  {
   "cell_type": "code",
   "execution_count": null,
   "metadata": {},
   "outputs": [],
   "source": []
  },
  {
   "cell_type": "markdown",
   "metadata": {},
   "source": [
    "> #### <b style=\"color: #58a491\">컨볼루션</b>\n",
    "> - filters: 출력채널 수(필터 수)\n",
    "> - kernel_size: 필터 크기\n",
    "> - stride: 필터 이동 수\n",
    "> - padding: valid, same\n",
    "> - activation: 비선형성 가능"
   ]
  },
  {
   "cell_type": "markdown",
   "metadata": {},
   "source": []
  }
 ],
 "metadata": {
  "language_info": {
   "name": "python"
  }
 },
 "nbformat": 4,
 "nbformat_minor": 2
}
