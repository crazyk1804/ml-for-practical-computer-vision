{
  "cells": [
    {
      "cell_type": "code",
      "execution_count": 1,
      "metadata": {
        "colab": {
          "base_uri": "https://localhost:8080/",
          "height": 109
        },
        "id": "hiQ6zAoYhyaA",
        "outputId": "982cef42-8ee0-44fb-cc44-750f7dd7d4d4"
      },
      "outputs": [
        {
          "output_type": "execute_result",
          "data": {
            "text/plain": [
              "<IPython.core.display.Markdown object>"
            ],
            "text/markdown": "<table class=\"tfo-notebook-buttons\" align=\"left\"><td><a target=\"_blank\" href=\"https://console.cloud.google.com/ai-platform/notebooks/deploy-notebook?name=REST+%EC%97%94%EB%93%9C%ED%8F%AC%EC%9D%B8%ED%8A%B8%EB%A5%BC+%EC%82%AC%EC%9A%A9%ED%95%9C+%EC%98%88%EC%B8%A1&download_url=https%3A%2F%2Fgithub.com%2Fychoi-kr%2Fpractical-ml-vision-book-ko%2Fraw%2Fmaster%2F09_deploying%2F09b_rest.ipynb\"><img src=\"https://raw.githubusercontent.com/ychoi-kr/practical-ml-vision-book-ko/master/logo-cloud.png\"/>AI Platform Notebook에서 실행</a></td><td><a target=\"_blank\" href=\"https://colab.research.google.com/github/ychoi-kr/practical-ml-vision-book-ko/blob/master/09_deploying/09b_rest.ipynb\"><img src=\"https://www.tensorflow.org/images/colab_logo_32px.png\" />Google Colab에서 실행</a></td><td><a target=\"_blank\" href=\"https://github.com/ychoi-kr/practical-ml-vision-book-ko/blob/master/09_deploying/09b_rest.ipynb\"><img src=\"https://www.tensorflow.org/images/GitHub-Mark-32px.png\" />GitHub에서 소스 보기</a></td><td><a href=\"https://raw.githubusercontent.com/ychoi-kr/practical-ml-vision-book-ko/master/09_deploying/09b_rest.ipynb\"><img src=\"https://www.tensorflow.org/images/download_logo_32px.png\" />노트북 내려받기</a></td></table><br/><br/><h1>REST 엔드포인트를 사용한 예측</h1>"
          },
          "metadata": {},
          "execution_count": 1
        }
      ],
      "source": [
        "import urllib\n",
        "from IPython.display import Markdown as md\n",
        "\n",
        "### change to reflect your notebook\n",
        "_nb_loc = \"09_deploying/09b_rest.ipynb\"\n",
        "_nb_title = \"REST 엔드포인트를 사용한 예측\"\n",
        "_nb_message = \"\"\n",
        "\n",
        "### no need to change any of this\n",
        "_icons=[\"https://raw.githubusercontent.com/ychoi-kr/practical-ml-vision-book-ko/master/logo-cloud.png\", \"https://www.tensorflow.org/images/colab_logo_32px.png\", \"https://www.tensorflow.org/images/GitHub-Mark-32px.png\", \"https://www.tensorflow.org/images/download_logo_32px.png\"]\n",
        "_links=[\"https://console.cloud.google.com/ai-platform/notebooks/deploy-notebook?\" + urllib.parse.urlencode({\"name\": _nb_title, \"download_url\": \"https://github.com/ychoi-kr/practical-ml-vision-book-ko/raw/master/\"+_nb_loc}), \"https://colab.research.google.com/github/ychoi-kr/practical-ml-vision-book-ko/blob/master/{0}\".format(_nb_loc), \"https://github.com/ychoi-kr/practical-ml-vision-book-ko/blob/master/{0}\".format(_nb_loc), \"https://raw.githubusercontent.com/ychoi-kr/practical-ml-vision-book-ko/master/{0}\".format(_nb_loc)]\n",
        "md(\"\"\"<table class=\"tfo-notebook-buttons\" align=\"left\"><td><a target=\"_blank\" href=\"{0}\"><img src=\"{4}\"/>AI Platform Notebook에서 실행</a></td><td><a target=\"_blank\" href=\"{1}\"><img src=\"{5}\" />Google Colab에서 실행</a></td><td><a target=\"_blank\" href=\"{2}\"><img src=\"{6}\" />GitHub에서 소스 보기</a></td><td><a href=\"{3}\"><img src=\"{7}\" />노트북 내려받기</a></td></table><br/><br/><h1>{8}</h1>{9}\"\"\".format(_links[0], _links[1], _links[2], _links[3], _icons[0], _icons[1], _icons[2], _icons[3], _nb_title, _nb_message))"
      ]
    },
    {
      "cell_type": "markdown",
      "metadata": {
        "id": "a8HQYsAtC0Fv"
      },
      "source": [
        "# REST 엔드포인트를 사용한 예측\n",
        "\n",
        "이 노트북에서는 앞서 훈련 및 저장한 모델(7장)을 가지고 시작한다.\n",
        "편의상 이 모델을 공개 버킷 [gs://practical-ml-vision-book/flowers_5_trained](gs://practical-ml-vision-book/flowers_5_trained)에 두었다.\n",
        "\n",
        "이 모델을 REST 엔드포인트로 배포한 다음, POST로 모델을 호출하는 법을 보인다."
      ]
    },
    {
      "cell_type": "markdown",
      "metadata": {
        "id": "Jqj772ugojaq"
      },
      "source": [
        "## REST 엔드포인트"
      ]
    },
    {
      "cell_type": "code",
      "execution_count": null,
      "metadata": {
        "id": "o_Cr91tnojar",
        "outputId": "bf719995-864e-4638-df99-f7026e6e1ee2"
      },
      "outputs": [
        {
          "name": "stdout",
          "output_type": "stream",
          "text": [
            "#!/bin/bash\n",
            "\n",
            "REGION=\"us-central1\"  # make sure you have GPU/TPU quota in this region\n",
            "ENDPOINT_NAME=\"flowers_endpoint\"\n",
            "MODEL_NAME=\"flowers\"\n",
            "MODEL_LOCATION=\"gs://practical-ml-vision-book/flowers_5_trained\"\n",
            "IMAGE_URI=\"us-docker.pkg.dev/vertex-ai/prediction/tf2-cpu.2-1:latest\"\n",
            "\n",
            "for i in \"$@\"\n",
            "do\n",
            "case $i in\n",
            "        -r=*|--region=*) REGION=\"${i#*=}\"; shift ;;\n",
            "        -e=*|--endpoint_name=*) ENDPOINT_NAME=\"${i#*=}\"; shift ;;\n",
            "        -m=*|--model_name=*) MODEL_NAME=\"${i#*=}\"; shift ;;\n",
            "        -l=*|--model_location=*) MODEL_LOCATION=\"${i#*=}\"; shift ;;\n",
            "        -i=*|--image_uri=*) IMAGE_URI=\"${i#*=}\"; shift ;;\n",
            "        *) echo \"Unknown parameter passed: $1\"; exit 1 ;;\n",
            "esac\n",
            "done\n",
            "\n",
            "echo \"Deploying model $MODEL_NAME\"\n",
            "\n",
            "if [[ $(gcloud ai endpoints list --region=$REGION --format=\"value(display_name)\" | grep $ENDPOINT_NAME) ]]; then\n",
            "    echo \"The endpoint named $ENDPOINT_NAME already exists.\"\n",
            "else\n",
            "    # Create endpoint.\n",
            "    echo \"Creating $ENDPOINT_NAME endpoint now.\"\n",
            "    gcloud ai endpoints create \\\n",
            "      --region=$REGION \\\n",
            "      --display-name=$ENDPOINT_NAME\n",
            "fi\n",
            "\n",
            "ENDPOINT_ID=$(gcloud ai endpoints list --region=$REGION --format=\"value(name)\" --filter=\"displayName=$ENDPOINT_NAME\")\n",
            "echo \"The endpoint_id is $ENDPOINT_ID\"\n",
            "\n",
            "if [[ $(gcloud ai models list --region=$REGION --format=\"value(display_name)\" | grep $MODEL_NAME) ]]; then\n",
            "    echo \"The model named $MODEL_NAME already exists.\"\n",
            "else\n",
            "    # Upload model.\n",
            "    echo \"Uploading $MODEL_NAME model now.\"\n",
            "    gcloud ai models upload \\\n",
            "      --region=$REGION \\\n",
            "      --display-name=$MODEL_NAME \\\n",
            "      --container-image-uri=$IMAGE_URI \\\n",
            "      --artifact-uri=$MODEL_LOCATION\n",
            "fi\n",
            "\n",
            "MODEL_ID=$(gcloud ai models list --region=$REGION --format=\"value(name)\" --filter=\"displayName=$MODEL_NAME\")\n",
            "echo \"The model_id is $MODEL_ID\"\n",
            "\n",
            "echo \"Deploying model now\"\n",
            "gcloud ai endpoints deploy-model $ENDPOINT_ID\\\n",
            "  --region=$REGION \\\n",
            "  --model=$MODEL_ID \\\n",
            "  --display-name=$MODEL_NAME \\\n",
            "  --traffic-split=0=100\n"
          ]
        }
      ],
      "source": [
        "!cat ./vertex_deploy.sh"
      ]
    },
    {
      "cell_type": "code",
      "execution_count": null,
      "metadata": {
        "id": "faRCYWr9ojar",
        "outputId": "ee70e95d-a11b-47ee-ab67-0f791f914587"
      },
      "outputs": [
        {
          "name": "stdout",
          "output_type": "stream",
          "text": [
            "Deploying model flowers\n",
            "Using endpoint [https://us-central1-aiplatform.googleapis.com/]\n",
            "The endpoint named flowers_endpoint already exists.\n",
            "Using endpoint [https://us-central1-aiplatform.googleapis.com/]\n",
            "The endpoint_id is 4327589805996113920\n",
            "Using endpoint [https://us-central1-aiplatform.googleapis.com/]\n",
            "Uploading flowers model now.\n",
            "Using endpoint [https://us-central1-aiplatform.googleapis.com/]\n",
            "Waiting for operation [8618855115064868864]...done.                            \n",
            "Using endpoint [https://us-central1-aiplatform.googleapis.com/]\n",
            "The model_id is 4626538221495386112\n",
            "Deploying model now\n",
            "Using endpoint [https://us-central1-aiplatform.googleapis.com/]\n",
            "Waiting for operation [3921600703717441536]...done.                            \n",
            "Deployed a model to the endpoint 4327589805996113920. Id of the deployed model: 1963683786742824960.\n"
          ]
        }
      ],
      "source": [
        "!./vertex_deploy.sh"
      ]
    },
    {
      "cell_type": "markdown",
      "metadata": {
        "id": "6r-ngJX8ojar"
      },
      "source": [
        "## 중요: 이 셀을 변경"
      ]
    },
    {
      "cell_type": "markdown",
      "metadata": {
        "id": "6ewbN6Jpojar"
      },
      "source": [
        "위의 엔드포인트 ID와 배포된 모델 ID를 기록해 둔다. 아래 셀에 입력한다."
      ]
    },
    {
      "cell_type": "code",
      "execution_count": null,
      "metadata": {
        "id": "aCZdYiS-ojas"
      },
      "outputs": [],
      "source": [
        "# 배포한 모델에 맞게 아래를 수정할 것\n",
        "import os\n",
        "os.environ['ENDPOINT_ID'] = '4327589805996113920' # 바\n",
        "os.environ['MODEL_ID'] = '1963683786742824960' # 꿔\n",
        "os.environ['PROJECT'] = 'ai-analytics-solutions' # 주\n",
        "os.environ['BUCKET'] = 'ai-analytics-solutions-mlvisionbook' # 세\n",
        "os.environ['REGION'] = 'us-central1' # 요"
      ]
    },
    {
      "cell_type": "markdown",
      "metadata": {
        "id": "Lu1JYm4wojas"
      },
      "source": [
        "## JSON 요청"
      ]
    },
    {
      "cell_type": "code",
      "execution_count": null,
      "metadata": {
        "id": "VKmciytzojat",
        "outputId": "67bc7670-eaaf-40f9-c0b5-1484c5172703"
      },
      "outputs": [
        {
          "name": "stdout",
          "output_type": "stream",
          "text": [
            "Writing request.json\n"
          ]
        }
      ],
      "source": [
        "%%writefile request.json\n",
        "{\n",
        "    \"instances\": [\n",
        "        {\n",
        "            \"filenames\": \"gs://practical-ml-vision-book/flowers_5_jpeg/flower_photos/dandelion/9818247_e2eac18894.jpg\"\n",
        "        },\n",
        "        {\n",
        "            \"filenames\": \"gs://practical-ml-vision-book/flowers_5_jpeg/flower_photos/dandelion/9853885425_4a82356f1d_m.jpg\"\n",
        "        },\n",
        "        {\n",
        "            \"filenames\": \"gs://practical-ml-vision-book/flowers_5_jpeg/flower_photos/daisy/9299302012_958c70564c_n.jpg\"\n",
        "        },\n",
        "        {\n",
        "            \"filenames\": \"gs://practical-ml-vision-book/flowers_5_jpeg/flower_photos/tulips/8733586143_3139db6e9e_n.jpg\"\n",
        "        },\n",
        "        {\n",
        "            \"filenames\": \"gs://practical-ml-vision-book/flowers_5_jpeg/flower_photos/tulips/8713397358_0505cc0176_n.jpg\"\n",
        "        }\n",
        "    ]\n",
        "}"
      ]
    },
    {
      "cell_type": "code",
      "execution_count": null,
      "metadata": {
        "id": "96wLBDBPojat",
        "outputId": "b8d2f88f-89a5-4317-fc70-6f2612d08bf6"
      },
      "outputs": [
        {
          "name": "stdout",
          "output_type": "stream",
          "text": [
            "{\n",
            "  \"deployedModelId\": \"1963683786742824960\",\n",
            "  \"model\": \"projects/379218021631/locations/us-central1/models/4626538221495386112\",\n",
            "  \"modelDisplayName\": \"flowers\",\n",
            "  \"predictions\": [\n",
            "    {\n",
            "      \"flower_type_int\": 1,\n",
            "      \"flower_type_str\": \"dandelion\",\n",
            "      \"probability\": 0.619152546\n",
            "    },\n",
            "    {\n",
            "      \"flower_type_int\": 1,\n",
            "      \"flower_type_str\": \"dandelion\",\n",
            "      \"probability\": 0.999984384\n",
            "    },\n",
            "    {\n",
            "      \"flower_type_int\": 0,\n",
            "      \"flower_type_str\": \"daisy\",\n",
            "      \"probability\": 0.995082855\n",
            "    },\n",
            "    {\n",
            "      \"flower_type_int\": 4,\n",
            "      \"flower_type_str\": \"tulips\",\n",
            "      \"probability\": 0.975185812\n",
            "    },\n",
            "    {\n",
            "      \"flower_type_int\": 4,\n",
            "      \"flower_type_str\": \"tulips\",\n",
            "      \"probability\": 0.954917\n",
            "    }\n",
            "  ]\n",
            "}\n"
          ]
        },
        {
          "name": "stderr",
          "output_type": "stream",
          "text": [
            "Using endpoint [https://us-central1-prediction-aiplatform.googleapis.com/]\n"
          ]
        }
      ],
      "source": [
        "%%bash\n",
        "gcloud ai endpoints predict ${ENDPOINT_ID} \\\n",
        "--region=${REGION} \\\n",
        "--json-request=request.json \\\n",
        "--format=json"
      ]
    },
    {
      "cell_type": "markdown",
      "metadata": {
        "id": "hmT7fWqUojat"
      },
      "source": [
        "## HTTP Post를 통해 전송"
      ]
    },
    {
      "cell_type": "code",
      "execution_count": null,
      "metadata": {
        "id": "NwsOBqIpojat",
        "outputId": "60e0a765-f2f0-42e1-ab67-dc4f05c0fb1c"
      },
      "outputs": [
        {
          "name": "stdout",
          "output_type": "stream",
          "text": [
            "b'{\\n  \"predictions\": [\\n    {\\n      \"flower_type_int\": 1,\\n      \"probability\": 0.619152546,\\n      \"flower_type_str\": \"dandelion\"\\n    },\\n    {\\n      \"flower_type_str\": \"dandelion\",\\n      \"probability\": 0.999984384,\\n      \"flower_type_int\": 1\\n    },\\n    {\\n      \"probability\": 0.995082855,\\n      \"flower_type_str\": \"daisy\",\\n      \"flower_type_int\": 0\\n    },\\n    {\\n      \"probability\": 0.975185812,\\n      \"flower_type_str\": \"tulips\",\\n      \"flower_type_int\": 4\\n    },\\n    {\\n      \"flower_type_int\": 4,\\n      \"flower_type_str\": \"tulips\",\\n      \"probability\": 0.954917\\n    }\\n  ],\\n  \"deployedModelId\": \"1963683786742824960\",\\n  \"model\": \"projects/379218021631/locations/us-central1/models/4626538221495386112\",\\n  \"modelDisplayName\": \"flowers\"\\n}\\n'\n"
          ]
        }
      ],
      "source": [
        "# 파이썬에서 호출\n",
        "import json\n",
        "from oauth2client.client import GoogleCredentials\n",
        "import requests\n",
        "\n",
        "PROJECT = os.environ['PROJECT']\n",
        "REGION = os.environ['REGION']\n",
        "ENDPOINT_ID = os.environ['ENDPOINT_ID']\n",
        "\n",
        "token = GoogleCredentials.get_application_default().get_access_token().access_token\n",
        "api = \"https://{}-aiplatform.googleapis.com/v1/projects/{}/locations/{}/endpoints/{}:predict\".format(\n",
        "    REGION, PROJECT, REGION, ENDPOINT_ID)\n",
        "headers = {\"Authorization\": \"Bearer \" + token }\n",
        "data = {\n",
        "    \"instances\": [\n",
        "        {\n",
        "            \"filenames\": \"gs://practical-ml-vision-book/flowers_5_jpeg/flower_photos/dandelion/9818247_e2eac18894.jpg\"\n",
        "        },\n",
        "        {\n",
        "            \"filenames\": \"gs://practical-ml-vision-book/flowers_5_jpeg/flower_photos/dandelion/9853885425_4a82356f1d_m.jpg\"\n",
        "        },\n",
        "        {\n",
        "            \"filenames\": \"gs://practical-ml-vision-book/flowers_5_jpeg/flower_photos/daisy/9299302012_958c70564c_n.jpg\"\n",
        "        },\n",
        "        {\n",
        "            \"filenames\": \"gs://practical-ml-vision-book/flowers_5_jpeg/flower_photos/tulips/8733586143_3139db6e9e_n.jpg\"\n",
        "        },\n",
        "        {\n",
        "            \"filenames\": \"gs://practical-ml-vision-book/flowers_5_jpeg/flower_photos/tulips/8713397358_0505cc0176_n.jpg\"\n",
        "        }\n",
        "    ]\n",
        "}\n",
        "response = requests.post(api, json=data, headers=headers)\n",
        "print(response.content)"
      ]
    },
    {
      "cell_type": "markdown",
      "metadata": {
        "id": "9VlHH5fLojau"
      },
      "source": [
        "## [선택] CAIP 배치 예측"
      ]
    },
    {
      "cell_type": "code",
      "execution_count": null,
      "metadata": {
        "id": "Xom5CxJfojau"
      },
      "outputs": [],
      "source": [
        "%%writefile batchinputs.jsonl\n",
        "{\"filenames\": \"gs://practical-ml-vision-book/flowers_5_jpeg/flower_photos/dandelion/9818247_e2eac18894.jpg\"}\n",
        "{\"filenames\": \"gs://practical-ml-vision-book/flowers_5_jpeg/flower_photos/dandelion/9853885425_4a82356f1d_m.jpg\"}\n",
        "{\"filenames\": \"gs://practical-ml-vision-book/flowers_5_jpeg/flower_photos/daisy/9299302012_958c70564c_n.jpg\"}\n",
        "{\"filenames\": \"gs://practical-ml-vision-book/flowers_5_jpeg/flower_photos/tulips/8733586143_3139db6e9e_n.jpg\"}\n",
        "{\"filenames\": \"gs://practical-ml-vision-book/flowers_5_jpeg/flower_photos/tulips/8713397358_0505cc0176_n.jpg\"}"
      ]
    },
    {
      "cell_type": "code",
      "execution_count": null,
      "metadata": {
        "id": "4XLoXLZcojau"
      },
      "outputs": [],
      "source": [
        "%%bash\n",
        "gsutil cp batchinputs.jsonl gs://BUCKET"
      ]
    },
    {
      "cell_type": "code",
      "execution_count": null,
      "metadata": {
        "id": "2ohP2ex-ojau"
      },
      "outputs": [],
      "source": [
        "# 파이썬에서 호출\n",
        "import json\n",
        "from oauth2client.client import GoogleCredentials\n",
        "import requests\n",
        "\n",
        "PROJECT = os.environ['PROJECT']\n",
        "REGION = os.environ['REGION']\n",
        "ENDPOINT_ID = os.environ['ENDPOINT_ID']\n",
        "MODEL_ID = os.environ['MODEL_ID']\n",
        "BUCKET = os.environ['BUCKET'] # used for staging\n",
        "\n",
        "BATCH_JOB_NAME = \"batch_pred_job\"\n",
        "INPUT_FORMAT = \"jsonl\"\n",
        "INPUT_URI = \"gs://{}/batchinputs.jsonl\".format(BUCKET)\n",
        "OUTPUT_DIRECTORY = \"gs://{}/batch_predictions\".format(BUCKET)\n",
        "MACHINE_TYPE = \"n1-standard-2\"\n",
        "STARTING_REPLICA_COUNT = 1\n",
        "BATCH_SIZE = 64\n",
        "\n",
        "token = GoogleCredentials.get_application_default().get_access_token().access_token\n",
        "api = \"https://{}-aiplatform.googleapis.com/v1/projects/{}/locations/{}/batchPredictionJobs\".format(\n",
        "    REGION, PROJECT, REGION\n",
        ")\n",
        "headers = {\"Authorization\": \"Bearer \" + token}\n",
        "data = {\n",
        "    \"displayName\": BATCH_JOB_NAME,\n",
        "    \"model\": \"projects/{}/locations/{}/models/{}\".format(\n",
        "        PROJECT, REGION, MODEL_ID\n",
        "    ),\n",
        "    \"inputConfig\": {\n",
        "        \"instancesFormat\": INPUT_FORMAT,\n",
        "        \"gcsSource\": {\n",
        "            \"uris\": [INPUT_URI],\n",
        "        },\n",
        "    },\n",
        "    \"outputConfig\": {\n",
        "        \"predictionsFormat\": \"jsonl\",\n",
        "        \"gcsDestination\": {\n",
        "            \"outputUriPrefix\": OUTPUT_DIRECTORY,\n",
        "        },\n",
        "    },\n",
        "    \"dedicatedResources\" : {\n",
        "        \"machineSpec\" : {\n",
        "            \"machineType\": MACHINE_TYPE\n",
        "        },\n",
        "        \"startingReplicaCount\": STARTING_REPLICA_COUNT\n",
        "    },\n",
        "    \"manualBatchTuningParameters\": {\n",
        "        \"batch_size\": BATCH_SIZE,\n",
        "    }\n",
        "}\n",
        "response = requests.post(api, json=data, headers=headers)\n",
        "print(response.content)"
      ]
    },
    {
      "cell_type": "markdown",
      "metadata": {
        "id": "LoAnFJ7Xojav"
      },
      "source": [
        "## [선택] 아파치 빔에서 온라인 예측을 호출"
      ]
    },
    {
      "cell_type": "code",
      "execution_count": null,
      "metadata": {
        "id": "a7RXUsaiojav"
      },
      "outputs": [],
      "source": [
        "import apache_beam as beam\n",
        "import json\n",
        "from oauth2client.client import GoogleCredentials\n",
        "import requests\n",
        "\n",
        "class ModelPredict:\n",
        "    def __init__(self, project, region, endpoint_id):\n",
        "        self._api = \"https://{}-aiplatform.googleapis.com/v1/projects/{}/locations/{}/endpoints/{}:predict\".format(\n",
        "            region, project, region, endpoint_id)   \n",
        "        \n",
        "    def __call__(self, filenames):        \n",
        "        token = GoogleCredentials.get_application_default().get_access_token().access_token\n",
        "        if isinstance(filenames, str):\n",
        "            # Only one element, put it into a batch of 1.\n",
        "            data = {\n",
        "                \"instances\": [\n",
        "                    {\"filenames\": filenames}\n",
        "                ]\n",
        "            }\n",
        "        else:\n",
        "            data = {\n",
        "                \"instances\": []\n",
        "            }\n",
        "            for f in filenames:\n",
        "                data[\"instances\"].append({\n",
        "                    \"filenames\" : f\n",
        "                })\n",
        "        # print(data)\n",
        "        headers = {\"Authorization\": \"Bearer \" + token }\n",
        "        response = requests.post(self._api, json=data, headers=headers)\n",
        "        response = json.loads(response.content.decode(\"utf-8\"))\n",
        "        # print(response)\n",
        "        if isinstance(filenames, str):\n",
        "            result = response[\"predictions\"][0]\n",
        "            result[\"filename\"] = filenames\n",
        "            yield result\n",
        "        else:\n",
        "            for (a,b) in zip(filenames, response[\"predictions\"]):\n",
        "                result = b\n",
        "                result[\"filename\"] = a\n",
        "                yield result\n",
        "\n",
        "\n",
        "PROJECT = os.environ['PROJECT']\n",
        "REGION = os.environ['REGION']\n",
        "ENDPOINT_ID = os.environ['ENDPOINT_ID']\n",
        "\n",
        "with beam.Pipeline() as p:    \n",
        "    (p \n",
        "     | \"input\" >> beam.Create([\n",
        "        \"gs://practical-ml-vision-book/flowers_5_jpeg/flower_photos/dandelion/9818247_e2eac18894.jpg\",\n",
        "        \"gs://practical-ml-vision-book/flowers_5_jpeg/flower_photos/dandelion/9853885425_4a82356f1d_m.jpg\",\n",
        "        \"gs://practical-ml-vision-book/flowers_5_jpeg/flower_photos/daisy/9299302012_958c70564c_n.jpg\",\n",
        "        \"gs://practical-ml-vision-book/flowers_5_jpeg/flower_photos/tulips/8733586143_3139db6e9e_n.jpg\",\n",
        "        \"gs://practical-ml-vision-book/flowers_5_jpeg/flower_photos/tulips/8713397358_0505cc0176_n.jpg\"\n",
        "     ]) \n",
        "     | \"batch\" >> beam.BatchElements(min_batch_size=2, max_batch_size=3)\n",
        "     | \"addpred\" >> beam.FlatMap(ModelPredict(PROJECT, REGION, ENDPOINT_ID))\n",
        "     | \"write\" >> beam.Map(print)\n",
        "    )"
      ]
    },
    {
      "cell_type": "markdown",
      "metadata": {
        "id": "Duu8mX3iXANE"
      },
      "source": [
        "## 라이선스\n",
        "Copyright 2020 Google Inc. Licensed under the Apache License, Version 2.0 (the \"License\"); you may not use this file except in compliance with the License. You may obtain a copy of the License at http://www.apache.org/licenses/LICENSE-2.0 Unless required by applicable law or agreed to in writing, software distributed under the License is distributed on an \"AS IS\" BASIS, WITHOUT WARRANTIES OR CONDITIONS OF ANY KIND, either express or implied. See the License for the specific language governing permissions and limitations under the License."
      ]
    }
  ],
  "metadata": {
    "accelerator": "GPU",
    "colab": {
      "collapsed_sections": [
        "5UOm2etrwYCs"
      ],
      "name": "09b_rest.ipynb",
      "provenance": [],
      "toc_visible": true
    },
    "environment": {
      "kernel": "python3",
      "name": "tf2-gpu.2-6.m87",
      "type": "gcloud",
      "uri": "gcr.io/deeplearning-platform-release/tf2-gpu.2-6:m87"
    },
    "kernelspec": {
      "display_name": "Python 3",
      "language": "python",
      "name": "python3"
    },
    "language_info": {
      "codemirror_mode": {
        "name": "ipython",
        "version": 3
      },
      "file_extension": ".py",
      "mimetype": "text/x-python",
      "name": "python",
      "nbconvert_exporter": "python",
      "pygments_lexer": "ipython3",
      "version": "3.7.12"
    }
  },
  "nbformat": 4,
  "nbformat_minor": 0
}
