{
  "cells": [
    {
      "cell_type": "code",
      "execution_count": 1,
      "metadata": {
        "colab": {
          "base_uri": "https://localhost:8080/",
          "height": 109
        },
        "id": "hiQ6zAoYhyaA",
        "outputId": "57b2c99f-1ed9-43fd-c969-7b8c996adabf"
      },
      "outputs": [
        {
          "output_type": "execute_result",
          "data": {
            "text/plain": [
              "<IPython.core.display.Markdown object>"
            ],
            "text/markdown": "<table class=\"tfo-notebook-buttons\" align=\"left\"><td><a target=\"_blank\" href=\"https://console.cloud.google.com/ai-platform/notebooks/deploy-notebook?name=TensorFlow+Lite%EB%A5%BC+%EC%82%AC%EC%9A%A9%ED%95%9C+Edge+ML&download_url=https%3A%2F%2Fgithub.com%2Fychoi-kr%2Fpractical-ml-vision-book-ko%2Fraw%2Fmaster%2F09_deploying%2F09e_tflite.ipynb\"><img src=\"https://raw.githubusercontent.com/ychoi-kr/practical-ml-vision-book-ko/master/logo-cloud.png\"/>AI Platform Notebook에서 실행</a></td><td><a target=\"_blank\" href=\"https://colab.research.google.com/github/ychoi-kr/practical-ml-vision-book-ko/blob/master/09_deploying/09e_tflite.ipynb\"><img src=\"https://www.tensorflow.org/images/colab_logo_32px.png\" />Google Colab에서 실행</a></td><td><a target=\"_blank\" href=\"https://github.com/ychoi-kr/practical-ml-vision-book-ko/blob/master/09_deploying/09e_tflite.ipynb\"><img src=\"https://www.tensorflow.org/images/GitHub-Mark-32px.png\" />GitHub에서 소스 보기</a></td><td><a href=\"https://raw.githubusercontent.com/ychoi-kr/practical-ml-vision-book-ko/master/09_deploying/09e_tflite.ipynb\"><img src=\"https://www.tensorflow.org/images/download_logo_32px.png\" />노트북 내려받기</a></td></table><br/><br/><h1>TensorFlow Lite를 사용한 Edge ML</h1>"
          },
          "metadata": {},
          "execution_count": 1
        }
      ],
      "source": [
        "import urllib\n",
        "from IPython.display import Markdown as md\n",
        "\n",
        "### change to reflect your notebook\n",
        "_nb_loc = \"09_deploying/09e_tflite.ipynb\"\n",
        "_nb_title = \"TensorFlow Lite를 사용한 Edge ML\"\n",
        "_nb_message = \"\"\n",
        "\n",
        "### no need to change any of this\n",
        "_icons=[\"https://raw.githubusercontent.com/ychoi-kr/practical-ml-vision-book-ko/master/logo-cloud.png\", \"https://www.tensorflow.org/images/colab_logo_32px.png\", \"https://www.tensorflow.org/images/GitHub-Mark-32px.png\", \"https://www.tensorflow.org/images/download_logo_32px.png\"]\n",
        "_links=[\"https://console.cloud.google.com/ai-platform/notebooks/deploy-notebook?\" + urllib.parse.urlencode({\"name\": _nb_title, \"download_url\": \"https://github.com/ychoi-kr/practical-ml-vision-book-ko/raw/master/\"+_nb_loc}), \"https://colab.research.google.com/github/ychoi-kr/practical-ml-vision-book-ko/blob/master/{0}\".format(_nb_loc), \"https://github.com/ychoi-kr/practical-ml-vision-book-ko/blob/master/{0}\".format(_nb_loc), \"https://raw.githubusercontent.com/ychoi-kr/practical-ml-vision-book-ko/master/{0}\".format(_nb_loc)]\n",
        "md(\"\"\"<table class=\"tfo-notebook-buttons\" align=\"left\"><td><a target=\"_blank\" href=\"{0}\"><img src=\"{4}\"/>AI Platform Notebook에서 실행</a></td><td><a target=\"_blank\" href=\"{1}\"><img src=\"{5}\" />Google Colab에서 실행</a></td><td><a target=\"_blank\" href=\"{2}\"><img src=\"{6}\" />GitHub에서 소스 보기</a></td><td><a href=\"{3}\"><img src=\"{7}\" />노트북 내려받기</a></td></table><br/><br/><h1>{8}</h1>{9}\"\"\".format(_links[0], _links[1], _links[2], _links[3], _icons[0], _icons[1], _icons[2], _icons[3], _nb_title, _nb_message))"
      ]
    },
    {
      "cell_type": "markdown",
      "metadata": {
        "id": "a8HQYsAtC0Fv"
      },
      "source": [
        "# TensorFlow Lite를 사용한 Edge ML\n",
        "\n",
        "이 노트북에서는 저장된 모델을 Edge 장치에서 실행할 수 있도록 TensorFlow Lite 모델로 변환한다.\n",
        "\n",
        "에지 추론을 수행하려면 카메라의 원시 이미지 데이터를 처리하고 단일 이미지(이미지 배치가 아님)를 처리해야 한다."
      ]
    },
    {
      "cell_type": "code",
      "execution_count": null,
      "metadata": {
        "id": "rANkuh6bwDEh"
      },
      "outputs": [],
      "source": [
        "import tensorflow as tf\n",
        "import os, shutil\n",
        "\n",
        "MODEL_LOCATION='export/flowers_model3'  # will be created\n",
        "# 체크포인트에서 로드하고 원하는 시그니처가 있는 모델을 익스포트\n",
        "CHECK_POINT_DIR='gs://practical-ml-vision-book/flowers_5_trained/chkpts'\n",
        "model = tf.keras.models.load_model(CHECK_POINT_DIR)"
      ]
    },
    {
      "cell_type": "code",
      "execution_count": null,
      "metadata": {
        "id": "Kw42Lz49wDEi",
        "outputId": "0d3e80b2-a6a3-4f55-b2c4-a000b76de864"
      },
      "outputs": [
        {
          "name": "stdout",
          "output_type": "stream",
          "text": [
            "WARNING:tensorflow:From /opt/conda/lib/python3.7/site-packages/tensorflow/python/training/tracking/tracking.py:111: Model.state_updates (from tensorflow.python.keras.engine.training) is deprecated and will be removed in a future version.\n",
            "Instructions for updating:\n",
            "This property should not be used in TensorFlow 2.0, as updates are applied automatically.\n",
            "WARNING:tensorflow:From /opt/conda/lib/python3.7/site-packages/tensorflow/python/training/tracking/tracking.py:111: Layer.updates (from tensorflow.python.keras.engine.base_layer) is deprecated and will be removed in a future version.\n",
            "Instructions for updating:\n",
            "This property should not be used in TensorFlow 2.0, as updates are applied automatically.\n",
            "INFO:tensorflow:Assets written to: export/flowers_model3/assets\n"
          ]
        }
      ],
      "source": [
        "IMG_HEIGHT = 345\n",
        "IMG_WIDTH = 345\n",
        "IMG_CHANNELS = 3\n",
        "CLASS_NAMES = 'daisy dandelion roses sunflowers tulips'.split()\n",
        "    \n",
        "# 모든 크기의 단일 이미지\n",
        "@tf.function(input_signature=[tf.TensorSpec([None, None, 3], dtype=tf.float32)])\n",
        "def predict_flower_type(img):\n",
        "    img = tf.image.resize_with_pad(img, IMG_HEIGHT, IMG_WIDTH)\n",
        "    batch_pred = model(tf.expand_dims(img, axis=0))\n",
        "    top_prob = tf.math.reduce_max(batch_pred, axis=[1])\n",
        "    pred_label_index = tf.math.argmax(batch_pred, axis=1)\n",
        "    pred_label = tf.gather(tf.convert_to_tensor(CLASS_NAMES), pred_label_index)\n",
        "    return {\n",
        "        'probability': tf.squeeze(top_prob, axis=0),\n",
        "        'flower_type': tf.squeeze(pred_label, axis=0)\n",
        "    }\n",
        "\n",
        "shutil.rmtree('export', ignore_errors=True)\n",
        "os.mkdir('export')\n",
        "\n",
        "\n",
        "model.save(MODEL_LOCATION,\n",
        "          signatures={\n",
        "              'serving_default': predict_flower_type\n",
        "          })"
      ]
    },
    {
      "cell_type": "markdown",
      "metadata": {
        "id": "NsGH1I-lwDEi"
      },
      "source": [
        "## TFLite로 변환\n",
        "\n",
        "변환하는 데 시간이 걸린다."
      ]
    },
    {
      "cell_type": "code",
      "execution_count": null,
      "metadata": {
        "id": "0Ze6sppiwDEj"
      },
      "outputs": [],
      "source": [
        "import tensorflow as tf\n",
        "converter = tf.lite.TFLiteConverter.from_saved_model(MODEL_LOCATION)\n",
        "tflite_model = converter.convert()"
      ]
    },
    {
      "cell_type": "code",
      "execution_count": null,
      "metadata": {
        "id": "065Kl7VmwDEj"
      },
      "outputs": [],
      "source": [
        "with open('export/model.tflite', 'wb') as ofp:\n",
        "    ofp.write(tflite_model)"
      ]
    },
    {
      "cell_type": "code",
      "execution_count": null,
      "metadata": {
        "id": "Wsn-rrhhwDEj",
        "outputId": "9938b84a-c272-4ad6-9c48-73ad0346ba05"
      },
      "outputs": [
        {
          "name": "stdout",
          "output_type": "stream",
          "text": [
            "-rw-r--r-- 1 jupyter jupyter 8.8M Jan 26 05:31 export/model.tflite\n"
          ]
        }
      ],
      "source": [
        "!ls -lh export/model.tflite"
      ]
    },
    {
      "cell_type": "markdown",
      "metadata": {
        "id": "Duu8mX3iXANE"
      },
      "source": [
        "## 라이선스\n",
        "Copyright 2020 Google Inc. Licensed under the Apache License, Version 2.0 (the \"License\"); you may not use this file except in compliance with the License. You may obtain a copy of the License at http://www.apache.org/licenses/LICENSE-2.0 Unless required by applicable law or agreed to in writing, software distributed under the License is distributed on an \"AS IS\" BASIS, WITHOUT WARRANTIES OR CONDITIONS OF ANY KIND, either express or implied. See the License for the specific language governing permissions and limitations under the License."
      ]
    }
  ],
  "metadata": {
    "accelerator": "GPU",
    "colab": {
      "collapsed_sections": [
        "5UOm2etrwYCs"
      ],
      "name": "09e_tflite.ipynb",
      "provenance": [],
      "toc_visible": true
    },
    "environment": {
      "name": "tf2-2-3-gpu.2-3.m59",
      "type": "gcloud",
      "uri": "gcr.io/deeplearning-platform-release/tf2-2-3-gpu.2-3:m59"
    },
    "kernelspec": {
      "display_name": "Python 3",
      "language": "python",
      "name": "python3"
    },
    "language_info": {
      "codemirror_mode": {
        "name": "ipython",
        "version": 3
      },
      "file_extension": ".py",
      "mimetype": "text/x-python",
      "name": "python",
      "nbconvert_exporter": "python",
      "pygments_lexer": "ipython3",
      "version": "3.7.8"
    }
  },
  "nbformat": 4,
  "nbformat_minor": 0
}