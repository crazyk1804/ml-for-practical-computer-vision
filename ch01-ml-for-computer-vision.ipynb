{
 "cells": [
  {
   "cell_type": "markdown",
   "metadata": {},
   "source": [
    "### <b style=\"color: #abcdef\">01.컴퓨터 비전을 위한 머신러닝</b>"
   ]
  },
  {
   "cell_type": "markdown",
   "metadata": {},
   "source": [
    "- 감각계: 하드웨어\n",
    "- 인지계: 머신러닝(딥러닝)"
   ]
  },
  {
   "cell_type": "markdown",
   "metadata": {},
   "source": [
    "**전문가 시스템으로 접근 하던 컴퓨터 비전의 방향성은**  \n",
    "**알렉스넷으로 인해 딥러닝으로 판도가 변경됨 <span style=\"color: #bb8888\">(GPU + ReLU + Regularization + Depth)</span>**\n",
    "\n",
    "- OCR 의 경우 같은 글자라도 필체에 따라 모양이 달라지고  \n",
    "단어, 문장 등의 구성을 인지하기 위한 규칙을 코딩하기 어려웠으나  \n",
    "ML을 활용하여 데이터를 학습시키면 쉽게(비교적) 결과를 얻을 수 있음"
   ]
  }
 ],
 "metadata": {
  "language_info": {
   "name": "python"
  }
 },
 "nbformat": 4,
 "nbformat_minor": 2
}
