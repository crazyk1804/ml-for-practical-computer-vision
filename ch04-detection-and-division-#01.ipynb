{
 "cells": [
  {
   "cell_type": "markdown",
   "metadata": {},
   "source": [
    "### <b style=\"color: #abcdef\">03.이미지 비전</b>"
   ]
  },
  {
   "cell_type": "markdown",
   "metadata": {},
   "source": [
    "> #### <b style=\"color: #58a491\">객체검출</b>\n",
    "> - 컨볼루션 레이어는 위치정보를 추출함\n",
    "> - 컨볼루션 스택에 요소추가하여 네트워크 훈련"
   ]
  },
  {
   "cell_type": "markdown",
   "metadata": {},
   "source": [
    "> #### <b style=\"color: #58a491\">YOLO</b>\n",
    "> - 컨볼루션 백본 끝에 요소 추가\n",
    "> - YOLO 격자\n",
    "> - 중심좌표, 너비, 높이, 확신도 => (x, y, w, h, C)"
   ]
  },
  {
   "cell_type": "code",
   "execution_count": null,
   "metadata": {},
   "outputs": [],
   "source": []
  }
 ],
 "metadata": {
  "language_info": {
   "name": "python"
  }
 },
 "nbformat": 4,
 "nbformat_minor": 2
}
